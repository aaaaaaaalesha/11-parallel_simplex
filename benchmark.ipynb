{
 "cells": [
  {
   "cell_type": "markdown",
   "id": "17342bb1b7fd1db5",
   "metadata": {},
   "source": [
    "# Домашнее задание\n",
    "## Параллельные вычисления\n",
    "\n",
    "Тема: \"Решение задачи линейного программирования при помощи параллельного варианта симплекс-метода\"\n",
    "\n",
    "Выполнили:\n",
    "- Зимин Григорий Сергеевич, ИУ8-112\n",
    "- Александров Алексей Н., ИУ8-114\n",
    "- Сакулин Даниил Игоревич, ИУ8-115"
   ]
  },
  {
   "cell_type": "code",
   "execution_count": 1,
   "id": "60cfc46be4895de6",
   "metadata": {
    "ExecuteTime": {
     "end_time": "2024-10-20T17:26:22.800675Z",
     "start_time": "2024-10-20T17:26:22.796669Z"
    }
   },
   "outputs": [],
   "source": [
    "import logging\n",
    "from pathlib import Path\n",
    "\n",
    "import numpy as np\n",
    "import cupy as cp\n",
    "\n",
    "from src.simplex.simplex_problem import SimplexProblem, Solution"
   ]
  },
  {
   "cell_type": "code",
   "execution_count": 2,
   "id": "46416c8293517a53",
   "metadata": {
    "ExecuteTime": {
     "end_time": "2024-10-20T17:26:22.960845Z",
     "start_time": "2024-10-20T17:26:22.956616Z"
    }
   },
   "outputs": [],
   "source": [
    "logging.basicConfig(level=logging.ERROR, format='%(message)s')"
   ]
  },
  {
   "cell_type": "code",
   "execution_count": 3,
   "id": "521116f2ff5ebfad",
   "metadata": {
    "ExecuteTime": {
     "end_time": "2024-10-20T17:26:23.126639Z",
     "start_time": "2024-10-20T17:26:23.118578Z"
    }
   },
   "outputs": [],
   "source": [
    "sample_input_path = Path(\"sample_input_LLP.json\")\n",
    "problem = SimplexProblem(sample_input_path)"
   ]
  },
  {
   "cell_type": "code",
   "execution_count": 4,
   "id": "cce551bb4a8a2c3c",
   "metadata": {
    "ExecuteTime": {
     "end_time": "2024-10-20T17:26:23.568917Z",
     "start_time": "2024-10-20T17:26:23.548432Z"
    }
   },
   "outputs": [
    {
     "name": "stdout",
     "output_type": "stream",
     "text": [
      "CPU times: user 609 μs, sys: 0 ns, total: 609 μs\n",
      "Wall time: 598 μs\n"
     ]
    }
   ],
   "source": [
    "%%time\n",
    "solution: Solution = problem.solve()"
   ]
  },
  {
   "cell_type": "code",
   "execution_count": 5,
   "id": "68a1904f-22dd-41ad-a296-3fd6cea82f90",
   "metadata": {},
   "outputs": [],
   "source": [
    "problem = SimplexProblem(sample_input_path, use_gpu=\"cupy\")"
   ]
  },
  {
   "cell_type": "code",
   "execution_count": 6,
   "id": "eeb1e1e7-c0fe-4206-b83f-a51dbf17596d",
   "metadata": {},
   "outputs": [
    {
     "name": "stdout",
     "output_type": "stream",
     "text": [
      "CPU times: user 89.5 ms, sys: 31 ms, total: 120 ms\n",
      "Wall time: 117 ms\n"
     ]
    }
   ],
   "source": [
    "%%time\n",
    "solution: Solution = problem.solve()"
   ]
  },
  {
   "cell_type": "markdown",
   "id": "743c35f0-1b43-4303-8fb4-0f209483e781",
   "metadata": {},
   "source": [
    "### Warming Up!"
   ]
  },
  {
   "cell_type": "code",
   "execution_count": 16,
   "id": "9d9ef150-1879-473b-b40f-82b5617462ca",
   "metadata": {},
   "outputs": [],
   "source": [
    "a_np = np.random.rand(10000, 10000)\n",
    "b_np = np.random.rand(10000, 10000)"
   ]
  },
  {
   "cell_type": "code",
   "execution_count": 17,
   "id": "2d6b9f84-6005-4a74-b9f8-e171791b99af",
   "metadata": {},
   "outputs": [
    {
     "name": "stdout",
     "output_type": "stream",
     "text": [
      "CPU times: user 2min 32s, sys: 6.24 s, total: 2min 38s\n",
      "Wall time: 13.7 s\n"
     ]
    },
    {
     "data": {
      "text/plain": [
       "array([[2533.40480319, 2520.87759048, 2508.63115139, ..., 2526.55202795,\n",
       "        2543.3113167 , 2525.76154759],\n",
       "       [2518.69906209, 2520.04042212, 2507.76944133, ..., 2523.19985074,\n",
       "        2530.22196425, 2507.14445668],\n",
       "       [2546.97341595, 2512.73414378, 2504.49634241, ..., 2528.27209965,\n",
       "        2530.24264094, 2536.82654645],\n",
       "       ...,\n",
       "       [2525.51738174, 2498.88527381, 2510.69505967, ..., 2512.18745709,\n",
       "        2517.79999144, 2520.24922937],\n",
       "       [2517.01893231, 2496.13627169, 2484.87732794, ..., 2490.72426794,\n",
       "        2508.34264229, 2506.40511082],\n",
       "       [2531.1221516 , 2499.60874865, 2492.16166987, ..., 2500.18742613,\n",
       "        2497.24211285, 2518.25573165]])"
      ]
     },
     "execution_count": 17,
     "metadata": {},
     "output_type": "execute_result"
    }
   ],
   "source": [
    "%%time\n",
    "c = np.dot(a_np, b_np)\n",
    "c"
   ]
  },
  {
   "cell_type": "code",
   "execution_count": 18,
   "id": "8978f80d-5b8e-4639-854a-e362599431ee",
   "metadata": {},
   "outputs": [
    {
     "name": "stdout",
     "output_type": "stream",
     "text": [
      "CPU times: user 213 ms, sys: 2.26 s, total: 2.47 s\n",
      "Wall time: 1.95 s\n"
     ]
    },
    {
     "data": {
      "text/plain": [
       "array([[2533.40480319, 2520.87759048, 2508.63115139, ..., 2526.55202795,\n",
       "        2543.3113167 , 2525.76154759],\n",
       "       [2518.69906209, 2520.04042212, 2507.76944133, ..., 2523.19985074,\n",
       "        2530.22196425, 2507.14445668],\n",
       "       [2546.97341595, 2512.73414378, 2504.49634241, ..., 2528.27209965,\n",
       "        2530.24264094, 2536.82654645],\n",
       "       ...,\n",
       "       [2525.51738174, 2498.88527381, 2510.69505967, ..., 2512.18745709,\n",
       "        2517.79999144, 2520.24922937],\n",
       "       [2517.01893231, 2496.13627169, 2484.87732794, ..., 2490.72426794,\n",
       "        2508.34264229, 2506.40511082],\n",
       "       [2531.1221516 , 2499.60874865, 2492.16166987, ..., 2500.18742613,\n",
       "        2497.24211285, 2518.25573165]])"
      ]
     },
     "execution_count": 18,
     "metadata": {},
     "output_type": "execute_result"
    }
   ],
   "source": [
    "%%time\n",
    "a_cp = cp.asarray(a_np)\n",
    "b_cp = cp.asarray(b_np)\n",
    "c = cp.dot(a_cp, b_cp)\n",
    "c"
   ]
  },
  {
   "cell_type": "markdown",
   "id": "bc068b71-5a00-4630-8080-1b905ca0b33d",
   "metadata": {},
   "source": [
    "### Проведение бенчмарка"
   ]
  },
  {
   "cell_type": "code",
   "execution_count": null,
   "id": "6639d6d5-90e5-4f19-abb0-ad42cabc2f1e",
   "metadata": {},
   "outputs": [],
   "source": [
    "from src.benchmark import benchmark_lp_solver\n",
    "\n",
    "small_iter = (2, 5, 10, 20, 30, 40, 50, 80, 100)\n",
    "increase_iter = (2, 5, 10, 25, 75, 100, 250, 500, 1000, \n",
    "                 2000, 3000, 5000, 8000, 10000)\n",
    "\n",
    "benchmark_lp_solver(\n",
    "    problem_size_iterable=increase_iter,\n",
    ")"
   ]
  },
  {
   "cell_type": "code",
   "execution_count": null,
   "id": "80f6e71d-7754-4598-8348-ee1ddf359963",
   "metadata": {},
   "outputs": [],
   "source": []
  }
 ],
 "metadata": {
  "kernelspec": {
   "display_name": "Python 3 (ipykernel)",
   "language": "python",
   "name": "python3"
  },
  "language_info": {
   "codemirror_mode": {
    "name": "ipython",
    "version": 3
   },
   "file_extension": ".py",
   "mimetype": "text/x-python",
   "name": "python",
   "nbconvert_exporter": "python",
   "pygments_lexer": "ipython3",
   "version": "3.10.12"
  }
 },
 "nbformat": 4,
 "nbformat_minor": 5
}
