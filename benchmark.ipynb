{
 "cells": [
  {
   "cell_type": "markdown",
   "id": "17342bb1b7fd1db5",
   "metadata": {},
   "source": [
    "# Домашнее задание\n",
    "## Параллельные вычисления\n",
    "\n",
    "Тема: \"Решение задачи линейного программирования при помощи параллельного варианта симплекс-метода\"\n",
    "\n",
    "Выполнили:\n",
    "- Зимин Григорий Сергеевич, ИУ8-112\n",
    "- Александров Алексей Н., ИУ8-114\n",
    "- Сакулин Даниил Игоревич, ИУ8-115"
   ]
  },
  {
   "cell_type": "code",
   "execution_count": 1,
   "id": "60cfc46be4895de6",
   "metadata": {
    "ExecuteTime": {
     "end_time": "2024-10-20T17:26:22.800675Z",
     "start_time": "2024-10-20T17:26:22.796669Z"
    }
   },
   "outputs": [],
   "source": [
    "import logging\n",
    "from pathlib import Path\n",
    "\n",
    "from src.simplex.simplex_problem import SimplexProblem, Solution"
   ]
  },
  {
   "cell_type": "code",
   "execution_count": 2,
   "id": "46416c8293517a53",
   "metadata": {
    "ExecuteTime": {
     "end_time": "2024-10-20T17:26:22.960845Z",
     "start_time": "2024-10-20T17:26:22.956616Z"
    }
   },
   "outputs": [],
   "source": [
    "logging.basicConfig(level=logging.ERROR, format='%(message)s')"
   ]
  },
  {
   "cell_type": "code",
   "execution_count": 3,
   "id": "521116f2ff5ebfad",
   "metadata": {
    "ExecuteTime": {
     "end_time": "2024-10-20T17:26:23.126639Z",
     "start_time": "2024-10-20T17:26:23.118578Z"
    }
   },
   "outputs": [],
   "source": [
    "sample_input_path = Path(\"sample_input_LLP.json\")\n",
    "problem = SimplexProblem(sample_input_path)"
   ]
  },
  {
   "cell_type": "code",
   "execution_count": 4,
   "id": "cce551bb4a8a2c3c",
   "metadata": {
    "ExecuteTime": {
     "end_time": "2024-10-20T17:26:23.568917Z",
     "start_time": "2024-10-20T17:26:23.548432Z"
    }
   },
   "outputs": [
    {
     "name": "stdout",
     "output_type": "stream",
     "text": [
      "CPU times: user 0 ns, sys: 719 μs, total: 719 μs\n",
      "Wall time: 696 μs\n"
     ]
    }
   ],
   "source": [
    "%%time\n",
    "solution: Solution = problem.solve()"
   ]
  },
  {
   "cell_type": "code",
   "execution_count": 5,
   "id": "68a1904f-22dd-41ad-a296-3fd6cea82f90",
   "metadata": {},
   "outputs": [],
   "source": [
    "problem = SimplexProblem(sample_input_path, use_gpu=True)"
   ]
  },
  {
   "cell_type": "code",
   "execution_count": 6,
   "id": "eeb1e1e7-c0fe-4206-b83f-a51dbf17596d",
   "metadata": {},
   "outputs": [
    {
     "name": "stdout",
     "output_type": "stream",
     "text": [
      "CPU times: user 93.1 ms, sys: 30.5 ms, total: 124 ms\n",
      "Wall time: 120 ms\n"
     ]
    }
   ],
   "source": [
    "%%time\n",
    "solution: Solution = problem.solve()"
   ]
  },
  {
   "cell_type": "markdown",
   "id": "bc068b71-5a00-4630-8080-1b905ca0b33d",
   "metadata": {},
   "source": [
    "### Проведение бенчмарка"
   ]
  },
  {
   "cell_type": "code",
   "execution_count": 7,
   "id": "6639d6d5-90e5-4f19-abb0-ad42cabc2f1e",
   "metadata": {},
   "outputs": [
    {
     "data": {
      "text/html": [
       "<table>\n",
       "    <thead>\n",
       "        <tr>\n",
       "            <th>Размерность задачи (число переменных / ограничений)</th>\n",
       "            <th>CPU Time (ms)</th>\n",
       "            <th>GPU Time (ms)</th>\n",
       "        </tr>\n",
       "    </thead>\n",
       "    <tbody>\n",
       "        <tr>\n",
       "            <td>2</td>\n",
       "            <td>0.197</td>\n",
       "            <td>2.531</td>\n",
       "        </tr>\n",
       "        <tr>\n",
       "            <td>5</td>\n",
       "            <td>0.395</td>\n",
       "            <td>7.504</td>\n",
       "        </tr>\n",
       "        <tr>\n",
       "            <td>10</td>\n",
       "            <td>0.407</td>\n",
       "            <td>6.193</td>\n",
       "        </tr>\n",
       "        <tr>\n",
       "            <td>20</td>\n",
       "            <td>0.737</td>\n",
       "            <td>18.720</td>\n",
       "        </tr>\n",
       "        <tr>\n",
       "            <td>30</td>\n",
       "            <td>0.929</td>\n",
       "            <td>31.965</td>\n",
       "        </tr>\n",
       "        <tr>\n",
       "            <td>40</td>\n",
       "            <td>2.604</td>\n",
       "            <td>98.458</td>\n",
       "        </tr>\n",
       "        <tr>\n",
       "            <td>50</td>\n",
       "            <td>3.356</td>\n",
       "            <td>138.156</td>\n",
       "        </tr>\n",
       "        <tr>\n",
       "            <td>80</td>\n",
       "            <td>3.254</td>\n",
       "            <td>123.799</td>\n",
       "        </tr>\n",
       "        <tr>\n",
       "            <td>100</td>\n",
       "            <td>4.923</td>\n",
       "            <td>222.797</td>\n",
       "        </tr>\n",
       "    </tbody>\n",
       "</table>"
      ],
      "text/plain": [
       "+-----------------------------------------------------+---------------+---------------+\n",
       "| Размерность задачи (число переменных / ограничений) | CPU Time (ms) | GPU Time (ms) |\n",
       "+-----------------------------------------------------+---------------+---------------+\n",
       "|                          2                          |     0.197     |     2.531     |\n",
       "|                          5                          |     0.395     |     7.504     |\n",
       "|                          10                         |     0.407     |     6.193     |\n",
       "|                          20                         |     0.737     |     18.720    |\n",
       "|                          30                         |     0.929     |     31.965    |\n",
       "|                          40                         |     2.604     |     98.458    |\n",
       "|                          50                         |     3.356     |    138.156    |\n",
       "|                          80                         |     3.254     |    123.799    |\n",
       "|                         100                         |     4.923     |    222.797    |\n",
       "+-----------------------------------------------------+---------------+---------------+"
      ]
     },
     "execution_count": 7,
     "metadata": {},
     "output_type": "execute_result"
    }
   ],
   "source": [
    "from src.benchmark import benchmark_lp_solver\n",
    "\n",
    "small_iter = (2, 5, 10, 20, 30, 40, 50, 80, 100)\n",
    "increase_iter = (2, 5, 10, 25, 75, 100, 250, 500, 1000)\n",
    "\n",
    "benchmark_lp_solver(\n",
    "    problem_size_iterable=small_iter,\n",
    ")"
   ]
  },
  {
   "cell_type": "code",
   "execution_count": null,
   "id": "b27d8caa-1425-484a-917c-237ded35857b",
   "metadata": {},
   "outputs": [],
   "source": []
  }
 ],
 "metadata": {
  "kernelspec": {
   "display_name": "Python 3 (ipykernel)",
   "language": "python",
   "name": "python3"
  },
  "language_info": {
   "codemirror_mode": {
    "name": "ipython",
    "version": 3
   },
   "file_extension": ".py",
   "mimetype": "text/x-python",
   "name": "python",
   "nbconvert_exporter": "python",
   "pygments_lexer": "ipython3",
   "version": "3.10.12"
  }
 },
 "nbformat": 4,
 "nbformat_minor": 5
}
