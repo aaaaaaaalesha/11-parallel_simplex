{
 "cells": [
  {
   "cell_type": "markdown",
   "id": "17342bb1b7fd1db5",
   "metadata": {},
   "source": [
    "# Домашнее задание\n",
    "## Параллельные вычисления\n",
    "\n",
    "Тема: \"Решение задачи линейного программирования при помощи параллельного варианта симплекс-метода\"\n",
    "\n",
    "Выполнили:\n",
    "- Зимин Григорий Сергеевич, ИУ8-112\n",
    "- Александров Алексей Н., ИУ8-114\n",
    "- Сакулин Даниил Игоревич, ИУ8-115"
   ]
  },
  {
   "cell_type": "code",
   "execution_count": 1,
   "id": "60cfc46be4895de6",
   "metadata": {
    "ExecuteTime": {
     "end_time": "2024-10-20T17:26:22.800675Z",
     "start_time": "2024-10-20T17:26:22.796669Z"
    }
   },
   "outputs": [],
   "source": [
    "import logging\n",
    "from pathlib import Path\n",
    "\n",
    "from src.simplex.simplex_problem import SimplexProblem, Solution"
   ]
  },
  {
   "cell_type": "code",
   "execution_count": 2,
   "id": "46416c8293517a53",
   "metadata": {
    "ExecuteTime": {
     "end_time": "2024-10-20T17:26:22.960845Z",
     "start_time": "2024-10-20T17:26:22.956616Z"
    }
   },
   "outputs": [],
   "source": [
    "logging.basicConfig(level=logging.ERROR, format='%(message)s')"
   ]
  },
  {
   "cell_type": "code",
   "execution_count": 3,
   "id": "521116f2ff5ebfad",
   "metadata": {
    "ExecuteTime": {
     "end_time": "2024-10-20T17:26:23.126639Z",
     "start_time": "2024-10-20T17:26:23.118578Z"
    }
   },
   "outputs": [],
   "source": [
    "sample_input_path = Path(\"sample_input_LLP.json\")\n",
    "problem = SimplexProblem(sample_input_path)"
   ]
  },
  {
   "cell_type": "code",
   "execution_count": 4,
   "id": "cce551bb4a8a2c3c",
   "metadata": {
    "ExecuteTime": {
     "end_time": "2024-10-20T17:26:23.568917Z",
     "start_time": "2024-10-20T17:26:23.548432Z"
    }
   },
   "outputs": [
    {
     "name": "stdout",
     "output_type": "stream",
     "text": [
      "CPU times: user 0 ns, sys: 799 μs, total: 799 μs\n",
      "Wall time: 760 μs\n"
     ]
    }
   ],
   "source": [
    "%%time\n",
    "solution: Solution = problem.solve()"
   ]
  },
  {
   "cell_type": "code",
   "execution_count": 5,
   "id": "68a1904f-22dd-41ad-a296-3fd6cea82f90",
   "metadata": {},
   "outputs": [],
   "source": [
    "problem = SimplexProblem(sample_input_path, use_gpu=\"cupy\")"
   ]
  },
  {
   "cell_type": "code",
   "execution_count": 6,
   "id": "eeb1e1e7-c0fe-4206-b83f-a51dbf17596d",
   "metadata": {},
   "outputs": [
    {
     "name": "stdout",
     "output_type": "stream",
     "text": [
      "CPU times: user 86.2 ms, sys: 36 ms, total: 122 ms\n",
      "Wall time: 119 ms\n"
     ]
    }
   ],
   "source": [
    "%%time\n",
    "solution: Solution = problem.solve()"
   ]
  },
  {
   "cell_type": "code",
   "execution_count": 7,
   "id": "80eec0a6-29bd-4a25-84cc-36f59dc3bc5b",
   "metadata": {},
   "outputs": [],
   "source": [
    "# problem = SimplexProblem(sample_input_path, use_gpu=\"numba\")"
   ]
  },
  {
   "cell_type": "code",
   "execution_count": 8,
   "id": "1e353685-117b-4345-baa8-9e69ff4dd731",
   "metadata": {},
   "outputs": [],
   "source": [
    "# %%time\n",
    "# solution: Solution = problem.solve()"
   ]
  },
  {
   "cell_type": "markdown",
   "id": "bc068b71-5a00-4630-8080-1b905ca0b33d",
   "metadata": {},
   "source": [
    "### Проведение бенчмарка"
   ]
  },
  {
   "cell_type": "code",
   "execution_count": 9,
   "id": "6639d6d5-90e5-4f19-abb0-ad42cabc2f1e",
   "metadata": {},
   "outputs": [
    {
     "data": {
      "text/html": [
       "<table>\n",
       "    <thead>\n",
       "        <tr>\n",
       "            <th>Размерность задачи (число переменных / ограничений)</th>\n",
       "            <th>CPU Time (ms)</th>\n",
       "            <th>CuPy GPU Time (ms)</th>\n",
       "            <th>Numba GPU Time (ms)</th>\n",
       "        </tr>\n",
       "    </thead>\n",
       "    <tbody>\n",
       "        <tr>\n",
       "            <td>2</td>\n",
       "            <td>0.232</td>\n",
       "            <td>3.547</td>\n",
       "            <td>0.000</td>\n",
       "        </tr>\n",
       "        <tr>\n",
       "            <td>5</td>\n",
       "            <td>0.374</td>\n",
       "            <td>7.073</td>\n",
       "            <td>0.000</td>\n",
       "        </tr>\n",
       "        <tr>\n",
       "            <td>10</td>\n",
       "            <td>0.859</td>\n",
       "            <td>21.420</td>\n",
       "            <td>0.000</td>\n",
       "        </tr>\n",
       "        <tr>\n",
       "            <td>25</td>\n",
       "            <td>3.536</td>\n",
       "            <td>59.280</td>\n",
       "            <td>0.000</td>\n",
       "        </tr>\n",
       "        <tr>\n",
       "            <td>75</td>\n",
       "            <td>3.475</td>\n",
       "            <td>142.805</td>\n",
       "            <td>0.000</td>\n",
       "        </tr>\n",
       "        <tr>\n",
       "            <td>100</td>\n",
       "            <td>5.727</td>\n",
       "            <td>267.652</td>\n",
       "            <td>0.000</td>\n",
       "        </tr>\n",
       "        <tr>\n",
       "            <td>250</td>\n",
       "            <td>4.957</td>\n",
       "            <td>189.554</td>\n",
       "            <td>0.000</td>\n",
       "        </tr>\n",
       "        <tr>\n",
       "            <td>500</td>\n",
       "            <td>27.536</td>\n",
       "            <td>846.720</td>\n",
       "            <td>0.000</td>\n",
       "        </tr>\n",
       "        <tr>\n",
       "            <td>1000</td>\n",
       "            <td>750.800</td>\n",
       "            <td>12680.111</td>\n",
       "            <td>0.000</td>\n",
       "        </tr>\n",
       "    </tbody>\n",
       "</table>"
      ],
      "text/plain": [
       "+-----------------------------------------------------+---------------+--------------------+---------------------+\n",
       "| Размерность задачи (число переменных / ограничений) | CPU Time (ms) | CuPy GPU Time (ms) | Numba GPU Time (ms) |\n",
       "+-----------------------------------------------------+---------------+--------------------+---------------------+\n",
       "|                          2                          |     0.232     |       3.547        |        0.000        |\n",
       "|                          5                          |     0.374     |       7.073        |        0.000        |\n",
       "|                          10                         |     0.859     |       21.420       |        0.000        |\n",
       "|                          25                         |     3.536     |       59.280       |        0.000        |\n",
       "|                          75                         |     3.475     |      142.805       |        0.000        |\n",
       "|                         100                         |     5.727     |      267.652       |        0.000        |\n",
       "|                         250                         |     4.957     |      189.554       |        0.000        |\n",
       "|                         500                         |     27.536    |      846.720       |        0.000        |\n",
       "|                         1000                        |    750.800    |     12680.111      |        0.000        |\n",
       "+-----------------------------------------------------+---------------+--------------------+---------------------+"
      ]
     },
     "execution_count": 9,
     "metadata": {},
     "output_type": "execute_result"
    }
   ],
   "source": [
    "from src.benchmark import benchmark_lp_solver\n",
    "\n",
    "small_iter = (2, 5, 10, 20, 30, 40, 50, 80, 100)\n",
    "increase_iter = (2, 5, 10, 25, 75, 100, 250, 500, 1000)\n",
    "\n",
    "benchmark_lp_solver(\n",
    "    problem_size_iterable=increase_iter,\n",
    ")"
   ]
  }
 ],
 "metadata": {
  "kernelspec": {
   "display_name": "Python 3 (ipykernel)",
   "language": "python",
   "name": "python3"
  },
  "language_info": {
   "codemirror_mode": {
    "name": "ipython",
    "version": 3
   },
   "file_extension": ".py",
   "mimetype": "text/x-python",
   "name": "python",
   "nbconvert_exporter": "python",
   "pygments_lexer": "ipython3",
   "version": "3.10.12"
  }
 },
 "nbformat": 4,
 "nbformat_minor": 5
}
