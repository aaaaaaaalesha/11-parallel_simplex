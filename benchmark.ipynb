{
 "cells": [
  {
   "cell_type": "markdown",
   "id": "17342bb1b7fd1db5",
   "metadata": {},
   "source": [
    "# Домашнее задание\n",
    "## Параллельные вычисления\n",
    "\n",
    "Тема: \"Решение задачи линейного программирования при помощи параллельного варианта симплекс-метода\"\n",
    "\n",
    "Выполнили: \n",
    "- Александров Алексей Н., ИУ8-114\n",
    "- Сакулин Даниил Игоревич, ИУ8-115\n",
    "- Зимин Григорий Сергеевич, ИУ8-112"
   ]
  },
  {
   "cell_type": "code",
   "execution_count": 1,
   "id": "60cfc46be4895de6",
   "metadata": {
    "ExecuteTime": {
     "end_time": "2024-10-20T17:26:22.800675Z",
     "start_time": "2024-10-20T17:26:22.796669Z"
    }
   },
   "outputs": [],
   "source": [
    "import logging\n",
    "from pathlib import Path\n",
    "\n",
    "from src.simplex.simplex_problem import SimplexProblem, Solution"
   ]
  },
  {
   "cell_type": "code",
   "execution_count": 2,
   "id": "46416c8293517a53",
   "metadata": {
    "ExecuteTime": {
     "end_time": "2024-10-20T17:26:22.960845Z",
     "start_time": "2024-10-20T17:26:22.956616Z"
    }
   },
   "outputs": [],
   "source": [
    "logging.basicConfig(level=logging.INFO, format='%(message)s')"
   ]
  },
  {
   "cell_type": "code",
   "execution_count": 3,
   "id": "521116f2ff5ebfad",
   "metadata": {
    "ExecuteTime": {
     "end_time": "2024-10-20T17:26:23.126639Z",
     "start_time": "2024-10-20T17:26:23.118578Z"
    }
   },
   "outputs": [
    {
     "name": "stderr",
     "output_type": "stream",
     "text": [
      "F = c⋅x -> max,\n",
      "Ax <= b,\n",
      "x1,x2, ..., xn >= 0\n",
      "c^T = [-1 -1],\n",
      "A =\n",
      "[[0 8]\n",
      " [9 7]],\n",
      "b^T = [1 1].\n",
      "Используем <class 'src.simplex.simplex_table.SimplexTable'> (GPU: False)\n"
     ]
    }
   ],
   "source": [
    "problem = SimplexProblem(Path(\"input_LLP.json\"))"
   ]
  },
  {
   "cell_type": "code",
   "execution_count": 4,
   "id": "cce551bb4a8a2c3c",
   "metadata": {
    "ExecuteTime": {
     "end_time": "2024-10-20T17:26:23.568917Z",
     "start_time": "2024-10-20T17:26:23.548432Z"
    }
   },
   "outputs": [
    {
     "name": "stderr",
     "output_type": "stream",
     "text": [
      "Процесс решения:\n",
      "Поиск опорного решения: \n",
      "Исходная симплекс-таблица:\n",
      "+----+--------+--------+--------+\n",
      "|    |  Si0   |   x1   |   x2   |\n",
      "+----+--------+--------+--------+\n",
      "| x3 | 1.0000 | 0.0000 | 8.0000 |\n",
      "| x4 | 1.0000 | 9.0000 | 7.0000 |\n",
      "| F  | 0.0000 | 1.0000 | 1.0000 |\n",
      "+----+--------+--------+--------+\n",
      "Опорное решение найдено!\n",
      "x1 = x2 = 0, \n",
      "x3 = 1.000, x4 = 1.000\n",
      "Целевая функция: F = 0.000\n",
      "Поиск оптимального решения:\n",
      "Разрешающая строка: x4\n",
      "Разрешающий столбец: x1\n",
      "+----+---------+---------+--------+\n",
      "|    |   Si0   |    x4   |   x2   |\n",
      "+----+---------+---------+--------+\n",
      "| x3 |  1.0000 | -0.0000 | 8.0000 |\n",
      "| x1 |  0.1111 |  0.1111 | 0.7778 |\n",
      "| F  | -0.1111 | -0.1111 | 0.2222 |\n",
      "+----+---------+---------+--------+\n",
      "Разрешающая строка: x3\n",
      "Разрешающий столбец: x2\n",
      "+----+---------+---------+---------+\n",
      "|    |   Si0   |    x4   |    x3   |\n",
      "+----+---------+---------+---------+\n",
      "| x2 |  0.1250 | -0.0000 |  0.1250 |\n",
      "| x1 |  0.0139 |  0.1111 | -0.0972 |\n",
      "| F  | -0.1389 | -0.1111 | -0.0278 |\n",
      "+----+---------+---------+---------+\n",
      "Оптимальное решение найдено!\n",
      "x4 = x3 = 0, \n",
      "x2 = 0.125, x1 = 0.014\n",
      "Целевая функция: F = 0.139\n"
     ]
    },
    {
     "name": "stdout",
     "output_type": "stream",
     "text": [
      "CPU times: user 25.8 ms, sys: 5.86 ms, total: 31.7 ms\n",
      "Wall time: 26.7 ms\n"
     ]
    }
   ],
   "source": [
    "%%time\n",
    "solution: Solution = problem.solve()"
   ]
  },
  {
   "cell_type": "code",
   "execution_count": null,
   "id": "8c751de40eb837df",
   "metadata": {},
   "outputs": [],
   "source": []
  },
  {
   "cell_type": "code",
   "execution_count": 5,
   "id": "68a1904f-22dd-41ad-a296-3fd6cea82f90",
   "metadata": {},
   "outputs": [
    {
     "name": "stderr",
     "output_type": "stream",
     "text": [
      "F = c⋅x -> max,\n",
      "Ax <= b,\n",
      "x1,x2, ..., xn >= 0\n",
      "c^T = [-1 -1],\n",
      "A =\n",
      "[[0 8]\n",
      " [9 7]],\n",
      "b^T = [1 1].\n",
      "Используем <class 'src.simplex.gpu_simplex_table.GPUSimplexTable'> (GPU: True)\n"
     ]
    }
   ],
   "source": [
    "problem = SimplexProblem(Path(\"input_LLP.json\"), use_gpu=True)"
   ]
  },
  {
   "cell_type": "code",
   "execution_count": 6,
   "id": "eeb1e1e7-c0fe-4206-b83f-a51dbf17596d",
   "metadata": {},
   "outputs": [
    {
     "name": "stderr",
     "output_type": "stream",
     "text": [
      "Процесс решения:\n",
      "Поиск опорного решения: \n",
      "Исходная симплекс-таблица:\n",
      "+----+-----+-----+-----+\n",
      "|    | Si0 |  x1 |  x2 |\n",
      "+----+-----+-----+-----+\n",
      "| x3 | 1.0 | 0.0 | 8.0 |\n",
      "| x4 | 1.0 | 9.0 | 7.0 |\n",
      "| F  | 0.0 | 1.0 | 1.0 |\n",
      "+----+-----+-----+-----+\n",
      "Опорное решение найдено!\n",
      "x1 = x2 = 0, \n",
      "x3 = 1.000, x4 = 1.000\n",
      "Целевая функция: F = 0.000\n",
      "Поиск оптимального решения:\n",
      "Разрешающая строка: x4\n",
      "Разрешающий столбец: x1\n",
      "+----+---------------------+---------------------+--------------------+\n",
      "|    |         Si0         |          x4         |         x2         |\n",
      "+----+---------------------+---------------------+--------------------+\n",
      "| x3 |         1.0         |         -0.0        |        8.0         |\n",
      "| x1 |  0.1111111111111111 |  0.1111111111111111 | 0.7777777777777778 |\n",
      "| F  | -0.1111111111111111 | -0.1111111111111111 | 0.2222222222222222 |\n",
      "+----+---------------------+---------------------+--------------------+\n",
      "Разрешающая строка: x3\n",
      "Разрешающий столбец: x2\n",
      "+----+----------------------+---------------------+-----------------------+\n",
      "|    |         Si0          |          x4         |           x3          |\n",
      "+----+----------------------+---------------------+-----------------------+\n",
      "| x2 |        0.125         |         -0.0        |         0.125         |\n",
      "| x1 | 0.013888888888888881 |  0.1111111111111111 |  -0.09722222222222222 |\n",
      "| F  | -0.1388888888888889  | -0.1111111111111111 | -0.027777777777777776 |\n",
      "+----+----------------------+---------------------+-----------------------+\n",
      "Оптимальное решение найдено!\n",
      "x4 = x3 = 0, \n",
      "x2 = 0.125, x1 = 0.014\n",
      "Целевая функция: F = 0.139\n"
     ]
    },
    {
     "name": "stdout",
     "output_type": "stream",
     "text": [
      "CPU times: user 138 ms, sys: 25.6 ms, total: 163 ms\n",
      "Wall time: 156 ms\n"
     ]
    }
   ],
   "source": [
    "%%time\n",
    "solution: Solution = problem.solve()"
   ]
  },
  {
   "cell_type": "code",
   "execution_count": null,
   "id": "a90b55dd-2544-41e7-9739-40fafca1c84a",
   "metadata": {},
   "outputs": [],
   "source": []
  }
 ],
 "metadata": {
  "kernelspec": {
   "display_name": "Python 3 (ipykernel)",
   "language": "python",
   "name": "python3"
  },
  "language_info": {
   "codemirror_mode": {
    "name": "ipython",
    "version": 3
   },
   "file_extension": ".py",
   "mimetype": "text/x-python",
   "name": "python",
   "nbconvert_exporter": "python",
   "pygments_lexer": "ipython3",
   "version": "3.10.12"
  }
 },
 "nbformat": 4,
 "nbformat_minor": 5
}
