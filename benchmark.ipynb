{
 "cells": [
  {
   "cell_type": "markdown",
   "id": "17342bb1b7fd1db5",
   "metadata": {},
   "source": [
    "# Домашнее задание\n",
    "## Параллельные вычисления\n",
    "\n",
    "Тема: \"Решение задачи линейного программирования при помощи параллельного варианта симплекс-метода\"\n",
    "\n",
    "Выполнили: \n",
    "- Александров Алексей Н., ИУ8-114\n",
    "- Сакулин Даниил Игоревич, ИУ8-115\n",
    "- Зимин Григорий Сергеевич, ИУ8-112"
   ]
  },
  {
   "cell_type": "code",
   "execution_count": 1,
   "id": "60cfc46be4895de6",
   "metadata": {
    "ExecuteTime": {
     "end_time": "2024-10-20T18:23:32.062700Z",
     "start_time": "2024-10-20T18:23:31.533927Z"
    }
   },
   "outputs": [
    {
     "name": "stderr",
     "output_type": "stream",
     "text": [
      "B:\\github\\11-parallel_simplex\\.venv\\Lib\\site-packages\\cupy\\_environment.py:217: UserWarning: CUDA path could not be detected. Set CUDA_PATH environment variable if CuPy fails to load.\n",
      "  warnings.warn(\n"
     ]
    }
   ],
   "source": [
    "import logging\n",
    "from pathlib import Path\n",
    "\n",
    "from src.simplex.simplex_problem import SimplexProblem, Solution"
   ]
  },
  {
   "cell_type": "code",
   "execution_count": 2,
   "id": "46416c8293517a53",
   "metadata": {
    "ExecuteTime": {
     "end_time": "2024-10-20T18:23:32.068717Z",
     "start_time": "2024-10-20T18:23:32.064709Z"
    }
   },
   "outputs": [],
   "source": [
    "logging.basicConfig(level=logging.INFO, format='%(message)s')"
   ]
  },
  {
   "cell_type": "code",
   "execution_count": 3,
   "id": "521116f2ff5ebfad",
   "metadata": {
    "ExecuteTime": {
     "end_time": "2024-10-20T18:23:33.790366Z",
     "start_time": "2024-10-20T18:23:33.783122Z"
    }
   },
   "outputs": [
    {
     "name": "stderr",
     "output_type": "stream",
     "text": [
      "F = c⋅x -> max,\n",
      "Ax <= b,\n",
      "x1,x2, ..., xn >= 0\n",
      "c^T = [-1 -1],\n",
      "A =\n",
      "[[0 8]\n",
      " [9 7]],\n",
      "b^T = [1 1].\n"
     ]
    }
   ],
   "source": [
    "problem = SimplexProblem(Path(\"input_LLP.json\"))"
   ]
  },
  {
   "cell_type": "code",
   "execution_count": 4,
   "id": "cce551bb4a8a2c3c",
   "metadata": {
    "ExecuteTime": {
     "end_time": "2024-10-20T18:23:34.975254Z",
     "start_time": "2024-10-20T18:23:34.953609Z"
    }
   },
   "outputs": [
    {
     "name": "stderr",
     "output_type": "stream",
     "text": [
      "Процесс решения:\n",
      "Поиск опорного решения: \n",
      "Исходная симплекс-таблица:\n",
      "+----+--------+--------+--------+\n",
      "|    |  Si0   |   x1   |   x2   |\n",
      "+----+--------+--------+--------+\n",
      "| x3 | 1.0000 | 0.0000 | 8.0000 |\n",
      "| x4 | 1.0000 | 9.0000 | 7.0000 |\n",
      "| F  | 0.0000 | 1.0000 | 1.0000 |\n",
      "+----+--------+--------+--------+\n",
      "Опорное решение найдено!\n",
      "Поиск оптимального решения:\n",
      "Разрешающая строка: x4\n",
      "Разрешающий столбец: x1\n",
      "+----+---------+---------+--------+\n",
      "|    |   Si0   |    x4   |   x2   |\n",
      "+----+---------+---------+--------+\n",
      "| x3 |  1.0000 | -0.0000 | 8.0000 |\n",
      "| x1 |  0.1111 |  0.1111 | 0.7778 |\n",
      "| F  | -0.1111 | -0.1111 | 0.2222 |\n",
      "+----+---------+---------+--------+\n",
      "Разрешающая строка: x3\n",
      "Разрешающий столбец: x2\n",
      "+----+---------+---------+---------+\n",
      "|    |   Si0   |    x4   |    x3   |\n",
      "+----+---------+---------+---------+\n",
      "| x2 |  0.1250 | -0.0000 |  0.1250 |\n",
      "| x1 |  0.0139 |  0.1111 | -0.0972 |\n",
      "| F  | -0.1389 | -0.1111 | -0.0278 |\n",
      "+----+---------+---------+---------+\n",
      "Оптимальное решение найдено!\n"
     ]
    },
    {
     "name": "stdout",
     "output_type": "stream",
     "text": [
      "CPU times: total: 0 ns\n",
      "Wall time: 0 ns\n"
     ]
    },
    {
     "data": {
      "text/plain": [
       "([np.float64(0.013888888888888881), np.float64(0.125), 0, 0],\n",
       " np.float64(0.1388888888888889))"
      ]
     },
     "execution_count": 4,
     "metadata": {},
     "output_type": "execute_result"
    }
   ],
   "source": [
    "%%time\n",
    "solution: Solution = problem.solve()\n",
    "solution"
   ]
  },
  {
   "cell_type": "code",
   "execution_count": 5,
   "id": "9d14ef2a99717e1c",
   "metadata": {
    "ExecuteTime": {
     "end_time": "2024-10-20T18:23:49.140853Z",
     "start_time": "2024-10-20T18:23:47.521537Z"
    }
   },
   "outputs": [
    {
     "name": "stderr",
     "output_type": "stream",
     "text": [
      "F = c⋅x -> max,\n",
      "Ax <= b,\n",
      "x1,x2, ..., xn >= 0\n",
      "c^T = [-1 -1],\n",
      "A =\n",
      "[[0 8]\n",
      " [9 7]],\n",
      "b^T = [1 1].\n"
     ]
    },
    {
     "ename": "RuntimeError",
     "evalue": "CuPy failed to load nvrtc64_120_0.dll: FileNotFoundError: Could not find module 'nvrtc64_120_0.dll' (or one of its dependencies). Try using the full path with constructor syntax.",
     "output_type": "error",
     "traceback": [
      "\u001B[1;31m---------------------------------------------------------------------------\u001B[0m",
      "\u001B[1;31mFileNotFoundError\u001B[0m                         Traceback (most recent call last)",
      "File \u001B[1;32mcupy_backends\\cuda\\_softlink.pyx:25\u001B[0m, in \u001B[0;36mcupy_backends.cuda._softlink.SoftLink.__init__\u001B[1;34m()\u001B[0m\n",
      "File \u001B[1;32mC:\\Program Files\\Python311\\Lib\\ctypes\\__init__.py:376\u001B[0m, in \u001B[0;36mCDLL.__init__\u001B[1;34m(self, name, mode, handle, use_errno, use_last_error, winmode)\u001B[0m\n\u001B[0;32m    375\u001B[0m \u001B[38;5;28;01mif\u001B[39;00m handle \u001B[38;5;129;01mis\u001B[39;00m \u001B[38;5;28;01mNone\u001B[39;00m:\n\u001B[1;32m--> 376\u001B[0m     \u001B[38;5;28mself\u001B[39m\u001B[38;5;241m.\u001B[39m_handle \u001B[38;5;241m=\u001B[39m \u001B[43m_dlopen\u001B[49m\u001B[43m(\u001B[49m\u001B[38;5;28;43mself\u001B[39;49m\u001B[38;5;241;43m.\u001B[39;49m\u001B[43m_name\u001B[49m\u001B[43m,\u001B[49m\u001B[43m \u001B[49m\u001B[43mmode\u001B[49m\u001B[43m)\u001B[49m\n\u001B[0;32m    377\u001B[0m \u001B[38;5;28;01melse\u001B[39;00m:\n",
      "\u001B[1;31mFileNotFoundError\u001B[0m: Could not find module 'nvrtc64_120_0.dll' (or one of its dependencies). Try using the full path with constructor syntax.",
      "\nThe above exception was the direct cause of the following exception:\n",
      "\u001B[1;31mRuntimeError\u001B[0m                              Traceback (most recent call last)",
      "Cell \u001B[1;32mIn[5], line 1\u001B[0m\n\u001B[1;32m----> 1\u001B[0m problem \u001B[38;5;241m=\u001B[39m \u001B[43mSimplexProblem\u001B[49m\u001B[43m(\u001B[49m\u001B[43mPath\u001B[49m\u001B[43m(\u001B[49m\u001B[38;5;124;43m\"\u001B[39;49m\u001B[38;5;124;43minput_LLP.json\u001B[39;49m\u001B[38;5;124;43m\"\u001B[39;49m\u001B[43m)\u001B[49m\u001B[43m,\u001B[49m\u001B[43m \u001B[49m\u001B[43muse_gpu\u001B[49m\u001B[38;5;241;43m=\u001B[39;49m\u001B[38;5;28;43;01mTrue\u001B[39;49;00m\u001B[43m)\u001B[49m\n",
      "File \u001B[1;32mB:\\github\\11-parallel_simplex\\src\\simplex\\simplex_problem.py:53\u001B[0m, in \u001B[0;36mSimplexProblem.__init__\u001B[1;34m(self, input_path, use_gpu)\u001B[0m\n\u001B[0;32m     51\u001B[0m \u001B[38;5;66;03m# Инициализация симплекс-таблицы: либо обычная версия, либо GPU-версия\u001B[39;00m\n\u001B[0;32m     52\u001B[0m simplex_table_cls \u001B[38;5;241m=\u001B[39m SimplexTableGPU \u001B[38;5;28;01mif\u001B[39;00m use_gpu \u001B[38;5;28;01melse\u001B[39;00m SimplexTable\n\u001B[1;32m---> 53\u001B[0m \u001B[38;5;28mself\u001B[39m\u001B[38;5;241m.\u001B[39msimplex_table_ \u001B[38;5;241m=\u001B[39m \u001B[43msimplex_table_cls\u001B[49m\u001B[43m(\u001B[49m\n\u001B[0;32m     54\u001B[0m \u001B[43m    \u001B[49m\u001B[43mobj_func_coffs\u001B[49m\u001B[38;5;241;43m=\u001B[39;49m\u001B[38;5;28;43mself\u001B[39;49m\u001B[38;5;241;43m.\u001B[39;49m\u001B[43mobj_func_coffs_\u001B[49m\u001B[43m,\u001B[49m\n\u001B[0;32m     55\u001B[0m \u001B[43m    \u001B[49m\u001B[43mconstraint_system_lhs\u001B[49m\u001B[38;5;241;43m=\u001B[39;49m\u001B[38;5;28;43mself\u001B[39;49m\u001B[38;5;241;43m.\u001B[39;49m\u001B[43mconstraint_system_lhs_\u001B[49m\u001B[43m,\u001B[49m\n\u001B[0;32m     56\u001B[0m \u001B[43m    \u001B[49m\u001B[43mconstraint_system_rhs\u001B[49m\u001B[38;5;241;43m=\u001B[39;49m\u001B[38;5;28;43mself\u001B[39;49m\u001B[38;5;241;43m.\u001B[39;49m\u001B[43mconstraint_system_rhs_\u001B[49m\u001B[43m,\u001B[49m\n\u001B[0;32m     57\u001B[0m \u001B[43m\u001B[49m\u001B[43m)\u001B[49m\n",
      "File \u001B[1;32mB:\\github\\11-parallel_simplex\\src\\simplex\\simplex_table\\simplex_table_gpu.py:28\u001B[0m, in \u001B[0;36mSimplexTableGPU.__init__\u001B[1;34m(self, obj_func_coffs, constraint_system_lhs, constraint_system_rhs)\u001B[0m\n\u001B[0;32m     26\u001B[0m \u001B[38;5;66;03m# Формируем симплекс-таблицу.\u001B[39;00m\n\u001B[0;32m     27\u001B[0m \u001B[38;5;28mself\u001B[39m\u001B[38;5;241m.\u001B[39mmain_table_ \u001B[38;5;241m=\u001B[39m cp\u001B[38;5;241m.\u001B[39mzeros((constraint_count \u001B[38;5;241m+\u001B[39m \u001B[38;5;241m1\u001B[39m, var_count \u001B[38;5;241m+\u001B[39m \u001B[38;5;241m1\u001B[39m), dtype\u001B[38;5;241m=\u001B[39mcp\u001B[38;5;241m.\u001B[39mfloat64)\n\u001B[1;32m---> 28\u001B[0m \u001B[38;5;28;43mself\u001B[39;49m\u001B[38;5;241;43m.\u001B[39;49m\u001B[43mmain_table_\u001B[49m\u001B[43m[\u001B[49m\u001B[43m:\u001B[49m\u001B[43mconstraint_count\u001B[49m\u001B[43m,\u001B[49m\u001B[43m \u001B[49m\u001B[38;5;241;43m0\u001B[39;49m\u001B[43m]\u001B[49m \u001B[38;5;241m=\u001B[39m \u001B[38;5;28mself\u001B[39m\u001B[38;5;241m.\u001B[39mconstraint_system_rhs_  \u001B[38;5;66;03m# Столбец Si0\u001B[39;00m\n\u001B[0;32m     29\u001B[0m \u001B[38;5;28mself\u001B[39m\u001B[38;5;241m.\u001B[39mmain_table_[\u001B[38;5;241m-\u001B[39m\u001B[38;5;241m1\u001B[39m, \u001B[38;5;241m1\u001B[39m:] \u001B[38;5;241m=\u001B[39m \u001B[38;5;241m-\u001B[39m\u001B[38;5;28mself\u001B[39m\u001B[38;5;241m.\u001B[39mobj_func_coffs_  \u001B[38;5;66;03m# Строка F\u001B[39;00m\n\u001B[0;32m     31\u001B[0m \u001B[38;5;28;01mfor\u001B[39;00m i \u001B[38;5;129;01min\u001B[39;00m \u001B[38;5;28mrange\u001B[39m(constraint_count):\n",
      "File \u001B[1;32mcupy\\_core\\core.pyx:1594\u001B[0m, in \u001B[0;36mcupy._core.core._ndarray_base.__setitem__\u001B[1;34m()\u001B[0m\n",
      "File \u001B[1;32mcupy\\_core\\_routines_indexing.pyx:51\u001B[0m, in \u001B[0;36mcupy._core._routines_indexing._ndarray_setitem\u001B[1;34m()\u001B[0m\n",
      "File \u001B[1;32mcupy\\_core\\_routines_indexing.pyx:1027\u001B[0m, in \u001B[0;36mcupy._core._routines_indexing._scatter_op\u001B[1;34m()\u001B[0m\n",
      "File \u001B[1;32mcupy\\_core\\_kernel.pyx:1375\u001B[0m, in \u001B[0;36mcupy._core._kernel.ufunc.__call__\u001B[1;34m()\u001B[0m\n",
      "File \u001B[1;32mcupy\\_core\\_kernel.pyx:1402\u001B[0m, in \u001B[0;36mcupy._core._kernel.ufunc._get_ufunc_kernel\u001B[1;34m()\u001B[0m\n",
      "File \u001B[1;32mcupy\\_core\\_kernel.pyx:1082\u001B[0m, in \u001B[0;36mcupy._core._kernel._get_ufunc_kernel\u001B[1;34m()\u001B[0m\n",
      "File \u001B[1;32mcupy\\_core\\_kernel.pyx:94\u001B[0m, in \u001B[0;36mcupy._core._kernel._get_simple_elementwise_kernel\u001B[1;34m()\u001B[0m\n",
      "File \u001B[1;32mcupy\\_core\\_kernel.pyx:82\u001B[0m, in \u001B[0;36mcupy._core._kernel._get_simple_elementwise_kernel_from_code\u001B[1;34m()\u001B[0m\n",
      "File \u001B[1;32mcupy\\_core\\core.pyx:2281\u001B[0m, in \u001B[0;36mcupy._core.core.compile_with_cache\u001B[1;34m()\u001B[0m\n",
      "File \u001B[1;32mcupy\\_core\\core.pyx:2219\u001B[0m, in \u001B[0;36mcupy._core.core.assemble_cupy_compiler_options\u001B[1;34m()\u001B[0m\n",
      "File \u001B[1;32mcupy_backends\\cuda\\libs\\nvrtc.pyx:57\u001B[0m, in \u001B[0;36mcupy_backends.cuda.libs.nvrtc.getVersion\u001B[1;34m()\u001B[0m\n",
      "File \u001B[1;32mcupy_backends\\cuda\\libs\\_cnvrtc.pxi:72\u001B[0m, in \u001B[0;36mcupy_backends.cuda.libs.nvrtc.initialize\u001B[1;34m()\u001B[0m\n",
      "File \u001B[1;32mcupy_backends\\cuda\\libs\\_cnvrtc.pxi:76\u001B[0m, in \u001B[0;36mcupy_backends.cuda.libs.nvrtc._initialize\u001B[1;34m()\u001B[0m\n",
      "File \u001B[1;32mcupy_backends\\cuda\\libs\\_cnvrtc.pxi:143\u001B[0m, in \u001B[0;36mcupy_backends.cuda.libs.nvrtc._get_softlink\u001B[1;34m()\u001B[0m\n",
      "File \u001B[1;32mcupy_backends\\cuda\\_softlink.pyx:32\u001B[0m, in \u001B[0;36mcupy_backends.cuda._softlink.SoftLink.__init__\u001B[1;34m()\u001B[0m\n",
      "\u001B[1;31mRuntimeError\u001B[0m: CuPy failed to load nvrtc64_120_0.dll: FileNotFoundError: Could not find module 'nvrtc64_120_0.dll' (or one of its dependencies). Try using the full path with constructor syntax."
     ]
    }
   ],
   "source": [
    "problem = SimplexProblem(Path(\"input_LLP.json\"), use_gpu=True)"
   ]
  },
  {
   "cell_type": "code",
   "execution_count": null,
   "id": "8c751de40eb837df",
   "metadata": {
    "ExecuteTime": {
     "end_time": "2024-10-20T18:23:53.255267Z",
     "start_time": "2024-10-20T18:23:53.247451Z"
    }
   },
   "outputs": [],
   "source": [
    "%%timeit\n",
    "solution: Solution = problem.solve()\n",
    "solution"
   ]
  },
  {
   "cell_type": "code",
   "execution_count": null,
   "id": "70f1c17e5f245acb",
   "metadata": {},
   "outputs": [],
   "source": []
  }
 ],
 "metadata": {
  "kernelspec": {
   "display_name": "Python 3 (ipykernel)",
   "language": "python",
   "name": "python3"
  },
  "language_info": {
   "codemirror_mode": {
    "name": "ipython",
    "version": 3
   },
   "file_extension": ".py",
   "mimetype": "text/x-python",
   "name": "python",
   "nbconvert_exporter": "python",
   "pygments_lexer": "ipython3",
   "version": "3.11.2"
  }
 },
 "nbformat": 4,
 "nbformat_minor": 5
}
