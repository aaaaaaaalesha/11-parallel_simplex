{
 "cells": [
  {
   "metadata": {},
   "cell_type": "markdown",
   "source": [
    "# Домашнее задание\n",
    "## Параллельные вычисления\n",
    "\n",
    "Тема: \"Решение задачи линейного программирования при помощи параллельного варианта симплекс-метода\"\n",
    "\n",
    "Выполнили: \n",
    "- Александров Алексей Н., ИУ8-114\n",
    "- Сакулин Даниил Игоревич, ИУ8-115\n",
    "- Зимин Григорий Сергеевич, ИУ8-112"
   ],
   "id": "17342bb1b7fd1db5"
  },
  {
   "metadata": {
    "ExecuteTime": {
     "end_time": "2024-10-20T17:26:22.800675Z",
     "start_time": "2024-10-20T17:26:22.796669Z"
    }
   },
   "cell_type": "code",
   "source": [
    "import logging\n",
    "from pathlib import Path\n",
    "\n",
    "from src.simplex.simplex_problem import SimplexProblem, Solution"
   ],
   "id": "60cfc46be4895de6",
   "outputs": [],
   "execution_count": 6
  },
  {
   "metadata": {
    "ExecuteTime": {
     "end_time": "2024-10-20T17:26:22.960845Z",
     "start_time": "2024-10-20T17:26:22.956616Z"
    }
   },
   "cell_type": "code",
   "source": "logging.basicConfig(level=logging.INFO, format='%(message)s')",
   "id": "46416c8293517a53",
   "outputs": [],
   "execution_count": 7
  },
  {
   "metadata": {
    "ExecuteTime": {
     "end_time": "2024-10-20T17:26:23.126639Z",
     "start_time": "2024-10-20T17:26:23.118578Z"
    }
   },
   "cell_type": "code",
   "source": "problem = SimplexProblem(Path(\"input_LLP.json\"))",
   "id": "521116f2ff5ebfad",
   "outputs": [
    {
     "name": "stderr",
     "output_type": "stream",
     "text": [
      "F = c⋅x -> max,\n",
      "Ax <= b,\n",
      "x1,x2, ..., xn >= 0\n",
      "c^T = [-1 -1],\n",
      "A =\n",
      "[[0 8]\n",
      " [9 7]],\n",
      "b^T = [1 1].\n"
     ]
    }
   ],
   "execution_count": 8
  },
  {
   "metadata": {
    "ExecuteTime": {
     "end_time": "2024-10-20T17:26:23.568917Z",
     "start_time": "2024-10-20T17:26:23.548432Z"
    }
   },
   "cell_type": "code",
   "source": "solution: Solution = problem.solve()",
   "id": "cce551bb4a8a2c3c",
   "outputs": [
    {
     "name": "stderr",
     "output_type": "stream",
     "text": [
      "Процесс решения:\n",
      "Поиск опорного решения: \n",
      "Исходная симплекс-таблица:\n",
      "+----+--------+--------+--------+\n",
      "|    |  Si0   |   x1   |   x2   |\n",
      "+----+--------+--------+--------+\n",
      "| x3 | 1.0000 | 0.0000 | 8.0000 |\n",
      "| x4 | 1.0000 | 9.0000 | 7.0000 |\n",
      "| F  | 0.0000 | 1.0000 | 1.0000 |\n",
      "+----+--------+--------+--------+\n",
      "Опорное решение найдено!\n",
      "x1 = x2 = 0, \n",
      "x3 = 1.000, x4 = 1.000\n",
      "Целевая функция: F = 0.000\n",
      "Поиск оптимального решения:\n",
      "Разрешающая строка: x4\n",
      "Разрешающий столбец: x1\n",
      "+----+---------+---------+--------+\n",
      "|    |   Si0   |    x4   |   x2   |\n",
      "+----+---------+---------+--------+\n",
      "| x3 |  1.0000 | -0.0000 | 8.0000 |\n",
      "| x1 |  0.1111 |  0.1111 | 0.7778 |\n",
      "| F  | -0.1111 | -0.1111 | 0.2222 |\n",
      "+----+---------+---------+--------+\n",
      "Разрешающая строка: x3\n",
      "Разрешающий столбец: x2\n",
      "+----+---------+---------+---------+\n",
      "|    |   Si0   |    x4   |    x3   |\n",
      "+----+---------+---------+---------+\n",
      "| x2 |  0.1250 | -0.0000 |  0.1250 |\n",
      "| x1 |  0.0139 |  0.1111 | -0.0972 |\n",
      "| F  | -0.1389 | -0.1111 | -0.0278 |\n",
      "+----+---------+---------+---------+\n",
      "Оптимальное решение найдено!\n",
      "x4 = x3 = 0, \n",
      "x2 = 0.125, x1 = 0.014\n",
      "Целевая функция: F = 0.139\n"
     ]
    }
   ],
   "execution_count": 9
  },
  {
   "metadata": {},
   "cell_type": "code",
   "outputs": [],
   "execution_count": null,
   "source": "",
   "id": "8c751de40eb837df"
  }
 ],
 "metadata": {
  "kernelspec": {
   "display_name": "Python 3",
   "language": "python",
   "name": "python3"
  },
  "language_info": {
   "codemirror_mode": {
    "name": "ipython",
    "version": 2
   },
   "file_extension": ".py",
   "mimetype": "text/x-python",
   "name": "python",
   "nbconvert_exporter": "python",
   "pygments_lexer": "ipython2",
   "version": "2.7.6"
  }
 },
 "nbformat": 4,
 "nbformat_minor": 5
}
