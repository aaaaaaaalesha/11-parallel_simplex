{
 "cells": [
  {
   "cell_type": "markdown",
   "id": "17342bb1b7fd1db5",
   "metadata": {},
   "source": [
    "# Домашнее задание\n",
    "## Параллельные вычисления\n",
    "\n",
    "Тема: \"Решение задачи линейного программирования при помощи параллельного варианта симплекс-метода\"\n",
    "\n",
    "Выполнили:\n",
    "- Зимин Григорий Сергеевич, ИУ8-112\n",
    "- Александров Алексей Н., ИУ8-114\n",
    "- Сакулин Даниил Игоревич, ИУ8-115"
   ]
  },
  {
   "cell_type": "code",
   "execution_count": 12,
   "id": "60cfc46be4895de6",
   "metadata": {
    "ExecuteTime": {
     "end_time": "2024-10-20T17:26:22.800675Z",
     "start_time": "2024-10-20T17:26:22.796669Z"
    }
   },
   "outputs": [],
   "source": [
    "import logging\n",
    "from pathlib import Path\n",
    "\n",
    "import numpy as np\n",
    "import cupy as cp\n",
    "\n",
    "from src.simplex.simplex_problem import SimplexProblem, Solution"
   ]
  },
  {
   "cell_type": "code",
   "execution_count": 13,
   "id": "46416c8293517a53",
   "metadata": {
    "ExecuteTime": {
     "end_time": "2024-10-20T17:26:22.960845Z",
     "start_time": "2024-10-20T17:26:22.956616Z"
    }
   },
   "outputs": [],
   "source": [
    "logging.basicConfig(level=logging.INFO, format='%(message)s')"
   ]
  },
  {
   "cell_type": "code",
   "execution_count": 14,
   "id": "521116f2ff5ebfad",
   "metadata": {
    "ExecuteTime": {
     "end_time": "2024-10-20T17:26:23.126639Z",
     "start_time": "2024-10-20T17:26:23.118578Z"
    }
   },
   "outputs": [],
   "source": [
    "sample_input_path = Path(\"sample_input_LLP.json\")\n",
    "problem = SimplexProblem(sample_input_path)"
   ]
  },
  {
   "cell_type": "code",
   "execution_count": 15,
   "id": "cce551bb4a8a2c3c",
   "metadata": {
    "ExecuteTime": {
     "end_time": "2024-10-20T17:26:23.568917Z",
     "start_time": "2024-10-20T17:26:23.548432Z"
    }
   },
   "outputs": [
    {
     "data": {
      "text/plain": [
       "([0.013888888888888881, 0.125, 0, 0], 0.1388888888888889)"
      ]
     },
     "execution_count": 15,
     "metadata": {},
     "output_type": "execute_result"
    }
   ],
   "source": [
    "solution, _ = problem.solve()\n",
    "solution"
   ]
  },
  {
   "cell_type": "code",
   "execution_count": 16,
   "id": "68a1904f-22dd-41ad-a296-3fd6cea82f90",
   "metadata": {},
   "outputs": [],
   "source": [
    "problem = SimplexProblem(sample_input_path, use_gpu=\"cupy\", verbose=False)"
   ]
  },
  {
   "cell_type": "code",
   "execution_count": 17,
   "id": "eeb1e1e7-c0fe-4206-b83f-a51dbf17596d",
   "metadata": {},
   "outputs": [
    {
     "data": {
      "text/plain": [
       "([0.013888888888888881, 0.125, 0, 0], 0.1388888888888889)"
      ]
     },
     "execution_count": 17,
     "metadata": {},
     "output_type": "execute_result"
    }
   ],
   "source": [
    "solution, _ = problem.solve(timer=True)\n",
    "solution"
   ]
  },
  {
   "cell_type": "markdown",
   "id": "743c35f0-1b43-4303-8fb4-0f209483e781",
   "metadata": {},
   "source": [
    "### Warming Up!"
   ]
  },
  {
   "cell_type": "code",
   "execution_count": 7,
   "id": "9d9ef150-1879-473b-b40f-82b5617462ca",
   "metadata": {},
   "outputs": [],
   "source": [
    "a_np = np.random.rand(10000, 10000)\n",
    "b_np = np.random.rand(10000, 10000)"
   ]
  },
  {
   "cell_type": "code",
   "execution_count": 8,
   "id": "2d6b9f84-6005-4a74-b9f8-e171791b99af",
   "metadata": {},
   "outputs": [
    {
     "name": "stdout",
     "output_type": "stream",
     "text": [
      "CPU times: user 2min 33s, sys: 3.89 s, total: 2min 37s\n",
      "Wall time: 13.5 s\n"
     ]
    },
    {
     "data": {
      "text/plain": [
       "array([[2526.90698924, 2524.86463316, 2501.39075187, ..., 2532.18647524,\n",
       "        2510.12956302, 2503.58736248],\n",
       "       [2549.89898054, 2540.10875159, 2511.16575564, ..., 2549.45427264,\n",
       "        2532.00573068, 2519.97893658],\n",
       "       [2520.30518419, 2506.07217727, 2481.06753459, ..., 2517.0552054 ,\n",
       "        2489.77561285, 2483.93761519],\n",
       "       ...,\n",
       "       [2527.36251624, 2523.61092914, 2483.56758114, ..., 2531.75961199,\n",
       "        2517.23756051, 2490.31150528],\n",
       "       [2537.55285633, 2517.96527258, 2503.00362948, ..., 2535.87954506,\n",
       "        2518.14377282, 2509.47616364],\n",
       "       [2552.46961591, 2543.88741788, 2516.77699398, ..., 2550.76795737,\n",
       "        2547.79497279, 2518.10768312]])"
      ]
     },
     "execution_count": 8,
     "metadata": {},
     "output_type": "execute_result"
    }
   ],
   "source": [
    "%%time\n",
    "c = np.dot(a_np, b_np)\n",
    "c"
   ]
  },
  {
   "cell_type": "code",
   "execution_count": 9,
   "id": "8978f80d-5b8e-4639-854a-e362599431ee",
   "metadata": {},
   "outputs": [
    {
     "name": "stdout",
     "output_type": "stream",
     "text": [
      "CPU times: user 252 ms, sys: 2.21 s, total: 2.46 s\n",
      "Wall time: 1.8 s\n"
     ]
    },
    {
     "data": {
      "text/plain": [
       "array([[2526.90698924, 2524.86463316, 2501.39075187, ..., 2532.18647524,\n",
       "        2510.12956302, 2503.58736248],\n",
       "       [2549.89898054, 2540.10875159, 2511.16575564, ..., 2549.45427264,\n",
       "        2532.00573068, 2519.97893658],\n",
       "       [2520.30518419, 2506.07217727, 2481.06753459, ..., 2517.0552054 ,\n",
       "        2489.77561285, 2483.93761519],\n",
       "       ...,\n",
       "       [2527.36251624, 2523.61092914, 2483.56758114, ..., 2531.75961199,\n",
       "        2517.23756051, 2490.31150528],\n",
       "       [2537.55285633, 2517.96527258, 2503.00362948, ..., 2535.87954506,\n",
       "        2518.14377282, 2509.47616364],\n",
       "       [2552.46961591, 2543.88741788, 2516.77699398, ..., 2550.76795737,\n",
       "        2547.79497279, 2518.10768312]])"
      ]
     },
     "execution_count": 9,
     "metadata": {},
     "output_type": "execute_result"
    }
   ],
   "source": [
    "%%time\n",
    "a_cp = cp.asarray(a_np)\n",
    "b_cp = cp.asarray(b_np)\n",
    "c = cp.dot(a_cp, b_cp)\n",
    "c"
   ]
  },
  {
   "cell_type": "markdown",
   "id": "bc068b71-5a00-4630-8080-1b905ca0b33d",
   "metadata": {},
   "source": [
    "### Проведение бенчмарка"
   ]
  },
  {
   "cell_type": "code",
   "execution_count": 10,
   "id": "6c473e0f-ccb4-4781-84d6-4fc28daffc53",
   "metadata": {},
   "outputs": [],
   "source": [
    "logging.basicConfig(level=logging.CRITICAL, format='%(message)s')"
   ]
  },
  {
   "cell_type": "code",
   "execution_count": 11,
   "id": "6639d6d5-90e5-4f19-abb0-ad42cabc2f1e",
   "metadata": {},
   "outputs": [
    {
     "data": {
      "text/html": [
       "<table>\n",
       "    <thead>\n",
       "        <tr>\n",
       "            <th>Размерность задачи (число переменных / ограничений)</th>\n",
       "            <th>CPU Time (ms)</th>\n",
       "            <th>GPU Time (ms)</th>\n",
       "            <th>Прирост производительности (?)</th>\n",
       "        </tr>\n",
       "    </thead>\n",
       "    <tbody>\n",
       "        <tr>\n",
       "            <td>5</td>\n",
       "            <td>11.255</td>\n",
       "            <td>7.434</td>\n",
       "            <td>1.51</td>\n",
       "        </tr>\n",
       "        <tr>\n",
       "            <td>10</td>\n",
       "            <td>17.538</td>\n",
       "            <td>10.483</td>\n",
       "            <td>1.67</td>\n",
       "        </tr>\n",
       "        <tr>\n",
       "            <td>20</td>\n",
       "            <td>81.589</td>\n",
       "            <td>23.707</td>\n",
       "            <td>3.44</td>\n",
       "        </tr>\n",
       "        <tr>\n",
       "            <td>40</td>\n",
       "            <td>418.501</td>\n",
       "            <td>57.056</td>\n",
       "            <td>7.33</td>\n",
       "        </tr>\n",
       "        <tr>\n",
       "            <td>80</td>\n",
       "            <td>1449.153</td>\n",
       "            <td>96.853</td>\n",
       "            <td>14.96</td>\n",
       "        </tr>\n",
       "        <tr>\n",
       "            <td>160</td>\n",
       "            <td>25407.873</td>\n",
       "            <td>844.248</td>\n",
       "            <td>30.10</td>\n",
       "        </tr>\n",
       "        <tr>\n",
       "            <td>320</td>\n",
       "            <td>50728.075</td>\n",
       "            <td>834.236</td>\n",
       "            <td>60.81</td>\n",
       "        </tr>\n",
       "    </tbody>\n",
       "</table>"
      ],
      "text/plain": [
       "+-----------------------------------------------------+---------------+---------------+--------------------------------+\n",
       "| Размерность задачи (число переменных / ограничений) | CPU Time (ms) | GPU Time (ms) | Прирост производительности (?) |\n",
       "+-----------------------------------------------------+---------------+---------------+--------------------------------+\n",
       "|                          5                          |     11.255    |     7.434     |              1.51              |\n",
       "|                          10                         |     17.538    |     10.483    |              1.67              |\n",
       "|                          20                         |     81.589    |     23.707    |              3.44              |\n",
       "|                          40                         |    418.501    |     57.056    |              7.33              |\n",
       "|                          80                         |    1449.153   |     96.853    |             14.96              |\n",
       "|                         160                         |   25407.873   |    844.248    |             30.10              |\n",
       "|                         320                         |   50728.075   |    834.236    |             60.81              |\n",
       "+-----------------------------------------------------+---------------+---------------+--------------------------------+"
      ]
     },
     "execution_count": 11,
     "metadata": {},
     "output_type": "execute_result"
    }
   ],
   "source": [
    "from src.benchmark import benchmark_lp_solver\n",
    "\n",
    "increase_iter = (5, 10, 20, 40, 80, 160, 320)\n",
    "\n",
    "benchmark_lp_solver(\n",
    "    problem_size_iterable=increase_iter,\n",
    ")"
   ]
  }
 ],
 "metadata": {
  "kernelspec": {
   "display_name": "Python 3 (ipykernel)",
   "language": "python",
   "name": "python3"
  },
  "language_info": {
   "codemirror_mode": {
    "name": "ipython",
    "version": 3
   },
   "file_extension": ".py",
   "mimetype": "text/x-python",
   "name": "python",
   "nbconvert_exporter": "python",
   "pygments_lexer": "ipython3",
   "version": "3.10.12"
  }
 },
 "nbformat": 4,
 "nbformat_minor": 5
}
